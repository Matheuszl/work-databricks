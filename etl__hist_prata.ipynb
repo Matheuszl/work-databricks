{
 "cells": [
  {
   "cell_type": "code",
   "execution_count": 0,
   "metadata": {
    "application/vnd.databricks.v1+cell": {
     "cellMetadata": {
      "byteLimit": 2048000,
      "rowLimit": 10000
     },
     "inputWidgets": {},
     "nuid": "b6979483-cf28-42c3-8ed3-d23f4f989c76",
     "showTitle": false,
     "tableResultSettingsMap": {},
     "title": ""
    }
   },
   "outputs": [],
   "source": [
    "df_bronze = spark.read.table(\"db_work_databricks.bronze_cc\").select(\n",
    "    \"data\",\n",
    "    \"descricao\",\n",
    "    \"valor\",\n",
    "    \"valor_original\",\n",
    "    \"tipo_movimentacao\"\n",
    ")"
   ]
  },
  {
   "cell_type": "code",
   "execution_count": 0,
   "metadata": {
    "application/vnd.databricks.v1+cell": {
     "cellMetadata": {
      "byteLimit": 2048000,
      "rowLimit": 10000
     },
     "inputWidgets": {},
     "nuid": "4cd3c48a-bc60-4c3a-8558-d05a771abe81",
     "showTitle": false,
     "tableResultSettingsMap": {},
     "title": ""
    }
   },
   "outputs": [],
   "source": [
    "import pandas as pd\n",
    "from typing import Dict, List, Optional, Tuple\n",
    "\n",
    "class ProcessamentoFinanceiro:\n",
    "    def __init__(self):\n",
    "        \n",
    "        # [Mantido o código anterior dos mapeamentos...]\n",
    "        self.mapeamento_motivos = {\n",
    "            'pagto fatura master': 'Pagamento cartão de credito',\n",
    "            'aplic.financ.aviso previo': 'Saida para investimento',\n",
    "            'credito folha pgto.': 'Salario 25',\n",
    "            'liquidacao boleto sicredi  ziani e': 'Condominio',\n",
    "            'adto. salario mes': 'Salario 10',\n",
    "            'liquidacao boleto  pjbank pagament': 'Aluguel',\n",
    "            'resg.aplic.fin.aviso prev': 'Resgate de investimento',\n",
    "            'liquidacao boleto sicredi  rede co': 'Internet',\n",
    "            'pagamento pix sicredi  rede conesu': 'Internet',\n",
    "            'debito convenios  rge sul-g': 'Luz',\n",
    "            'debito convenios id  adm.c': 'Consorcio',\n",
    "            'liquidacao boleto  pjbank': 'Aluguel',\n",
    "            'pagamento pix  pjbank pagamentos s': 'Aluguel',\n",
    "            'pagamento bolsa auxilio': 'Salario Estagio',\n",
    "            'liquidacao boleto  lopes planos': 'Plano de Saude (Angelus)'\n",
    "        }\n",
    "        \n",
    "        # Casos especiais baseados em valor e descrição\n",
    "        self.casos_especiais_motivos = [\n",
    "            {'valor': 109, 'descricao': None, 'motivo': 'Academia'},\n",
    "            {'valor': 95, 'descricao': 'pagamento pix sicredi  rafael mardega', 'motivo': 'Academia'},\n",
    "            {'valor': 65, 'descricao': 'pagamento pix  ana paula zalamena', 'motivo': 'Convenio Mãe (Vans)'},\n",
    "            {'valor': None, 'descricao': 'pagamento pix sicredi  carla cristian', 'motivo': 'Pastel dona Carla'}\n",
    "        ]\n",
    "        \n",
    "        self.contas_fixas = [\n",
    "            'liquidacao boleto sicredi  ziani e',\n",
    "            'liquidacao boleto  pjbank pagament',\n",
    "            'liquidacao boleto sicredi  rede co',\n",
    "            'pagamento pix sicredi  rede conesu',\n",
    "            'debito convenios  rge sul-g',\n",
    "            'debito convenios id  adm.c',\n",
    "            'liquidacao boleto  pjbank',\n",
    "            'pagamento pix  pjbank pagamentos s',\n",
    "            'liquidacao boleto  lopes planos'\n",
    "        ]\n",
    "        \n",
    "        self.investimentos = [\n",
    "            'aplic.financ.aviso previo',\n",
    "            'resg.aplic.fin.aviso prev'\n",
    "        ]\n",
    "        \n",
    "        self.salarios = [\n",
    "            'credito folha pgto.',\n",
    "            'adto. salario mes',\n",
    "            'pagamento bolsa auxilio'\n",
    "        ]\n",
    "\n",
    "\n",
    "    def determinar_motivo(self, row: pd.Series) -> str:\n",
    "        if row['descricao'] in self.mapeamento_motivos:\n",
    "            return self.mapeamento_motivos[row['descricao']]\n",
    "        \n",
    "        for caso in self.casos_especiais_motivos:\n",
    "            if row['valor'] == caso['valor']:\n",
    "                if caso['descricao'] is None or row['descricao'] == caso['descricao']:\n",
    "                    return caso['motivo']\n",
    "        \n",
    "        return 'Outros'\n",
    "\n",
    "    def determinar_categoria(self, row: pd.Series) -> str:\n",
    "        descricao = row['descricao']\n",
    "        valor = row['valor']\n",
    "        \n",
    "        if (descricao in self.contas_fixas or \n",
    "            valor == 109 or\n",
    "            (valor == 95 and descricao == 'pagamento pix sicredi  rafael mardega') or\n",
    "            (valor == 65 and descricao == 'pagamento pix  ana paula zalamena')):\n",
    "            return 'Contas Fixas'\n",
    "        \n",
    "        if descricao in self.investimentos:\n",
    "            return 'Investimento'\n",
    "        \n",
    "        if descricao in self.salarios:\n",
    "            return 'Salario'\n",
    "        \n",
    "        if descricao == 'pagto fatura master':\n",
    "            return 'Cartão de Crédito'\n",
    "        \n",
    "        return 'Outros'\n",
    "    \n",
    "    def determinar_meio_pagamento(self, row: pd.Series) -> str:\n",
    "        \"\"\"\n",
    "        Determina o meio de pagamento com base na descrição e tipo de movimentação\n",
    "        \"\"\"\n",
    "        descricao = row['descricao'].lower() if isinstance(row['descricao'], str) else \"\"\n",
    "        tipo_movimentacao = row['tipo_movimentacao'].lower() if isinstance(row['tipo_movimentacao'], str) else \"\"\n",
    "        \n",
    "        if tipo_movimentacao == 'saída':\n",
    "            if 'boleto' in descricao:\n",
    "                return \"Boleto (Débito Conta)\"\n",
    "            elif 'fatura' in descricao:\n",
    "                return \"Fatura Cartão de Crédito\"\n",
    "            elif 'debito' in descricao:\n",
    "                return \"Compra no Débito\"\n",
    "            elif 'pix' in descricao:\n",
    "                return \"PIX\"\n",
    "        return \"Outros\"\n",
    "\n",
    "    def processar_dados(self, df: pd.DataFrame) -> pd.DataFrame:\n",
    "        df_processado = df.copy()\n",
    "        df_processado['motivo'] = df_processado.apply(self.determinar_motivo, axis=1)\n",
    "        df_processado['categoria'] = df_processado.apply(self.determinar_categoria, axis=1)\n",
    "        df_processado['meio_de_pagamento'] = df_processado.apply(self.determinar_meio_pagamento, axis=1)\n",
    "        return df_processado\n",
    "\n",
    "\n"
   ]
  },
  {
   "cell_type": "code",
   "execution_count": 0,
   "metadata": {
    "application/vnd.databricks.v1+cell": {
     "cellMetadata": {
      "byteLimit": 2048000,
      "rowLimit": 10000
     },
     "inputWidgets": {},
     "nuid": "0efa1199-38b3-44ff-9f69-c281b4e73580",
     "showTitle": false,
     "tableResultSettingsMap": {},
     "title": ""
    }
   },
   "outputs": [],
   "source": [
    "# Convert Spark DataFrame to pandas DataFrame\n",
    "df_bronze_pd = df_bronze.toPandas()\n",
    "\n",
    "# Process the data\n",
    "processador = ProcessamentoFinanceiro()\n",
    "df_processado = processador.processar_dados(df_bronze_pd)"
   ]
  },
  {
   "cell_type": "code",
   "execution_count": 0,
   "metadata": {
    "application/vnd.databricks.v1+cell": {
     "cellMetadata": {
      "byteLimit": 2048000,
      "rowLimit": 10000
     },
     "inputWidgets": {},
     "nuid": "b8e8ee28-b64d-463d-8b97-011b30fe0d54",
     "showTitle": false,
     "tableResultSettingsMap": {},
     "title": ""
    }
   },
   "outputs": [],
   "source": [
    "display(df_processado)"
   ]
  },
  {
   "cell_type": "code",
   "execution_count": 0,
   "metadata": {
    "application/vnd.databricks.v1+cell": {
     "cellMetadata": {
      "byteLimit": 2048000,
      "rowLimit": 10000
     },
     "inputWidgets": {},
     "nuid": "d723632c-3d09-45d3-aeaa-b6d698b7927b",
     "showTitle": false,
     "tableResultSettingsMap": {},
     "title": ""
    }
   },
   "outputs": [],
   "source": [
    "# Convert pandas DataFrame to Spark DataFrame\n",
    "df_processado_spark = spark.createDataFrame(df_processado)\n",
    "\n",
    "# Write to Delta table\n",
    "df_processado_spark.write.format(\"delta\") \\\n",
    "    .mode(\"append\") \\\n",
    "    .saveAsTable(\"db_work_databricks.prata_cc\")"
   ]
  },
  {
   "cell_type": "markdown",
   "metadata": {
    "application/vnd.databricks.v1+cell": {
     "cellMetadata": {},
     "inputWidgets": {},
     "nuid": "c13741b2-b682-4039-9b2d-0450f2ece769",
     "showTitle": false,
     "tableResultSettingsMap": {},
     "title": ""
    }
   },
   "source": [
    "Com esse histórico, tenho toda base processada do inicio a 2025/08 processado e salvo no banco de dados.\n",
    "\n",
    "- Agora para o mes 09 outro ETL pode ser feito, removendo contas que já não existem e acrescentando contas novas de POA."
   ]
  }
 ],
 "metadata": {
  "application/vnd.databricks.v1+notebook": {
   "computePreferences": null,
   "dashboards": [],
   "environmentMetadata": {
    "base_environment": "",
    "environment_version": "3"
   },
   "inputWidgetPreferences": null,
   "language": "python",
   "notebookMetadata": {
    "pythonIndentUnit": 4
   },
   "notebookName": "etl__hist_prata",
   "widgets": {}
  },
  "language_info": {
   "name": "python"
  }
 },
 "nbformat": 4,
 "nbformat_minor": 0
}
