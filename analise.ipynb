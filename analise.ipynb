{
 "cells": [
  {
   "cell_type": "code",
   "execution_count": 0,
   "metadata": {
    "application/vnd.databricks.v1+cell": {
     "cellMetadata": {
      "byteLimit": 2048000,
      "implicitDf": true,
      "rowLimit": 10000
     },
     "inputWidgets": {},
     "nuid": "038d754e-4352-4f66-92e3-46c794cf5c20",
     "showTitle": false,
     "tableResultSettingsMap": {},
     "title": ""
    }
   },
   "outputs": [],
   "source": [
    "%sql\n",
    "WITH percentis AS (\n",
    "  SELECT\n",
    "    approx_percentile(valor, 0.01) AS p01,\n",
    "    approx_percentile(valor, 0.25) AS p25,\n",
    "    approx_percentile(valor, 0.50) AS p50,\n",
    "    approx_percentile(valor, 0.75) AS p75,\n",
    "    approx_percentile(valor, 0.99) AS p99\n",
    "  FROM\n",
    "    db_work_databricks.prata_cc\n",
    "  WHERE\n",
    "    motivo = \"Salario 25\"\n",
    "    AND categoria = \"Salario\"\n",
    "    AND motivo <> \"Salario Estagio\"\n",
    "    AND data >= \"2025-01-01\"\n",
    ")\n",
    "SELECT\n",
    "  CAST(MIN(valor) AS DOUBLE) AS min_val,\n",
    "  SUM(\n",
    "    CASE\n",
    "      WHEN valor < p01 THEN 1\n",
    "      ELSE 0\n",
    "    END\n",
    "  ) AS count_outliers_low,\n",
    "  p01 AS q_min,\n",
    "  p25 AS q1,\n",
    "  p50 AS median,\n",
    "  p75 AS q3,\n",
    "  p99 AS q_max,\n",
    "  SUM(\n",
    "    CASE\n",
    "      WHEN valor > p99 THEN 1\n",
    "      ELSE 0\n",
    "    END\n",
    "  ) AS count_outliers_high,\n",
    "  CAST(MAX(valor) AS DOUBLE) AS max_val,\n",
    "  COUNT(*) AS n_observacoes\n",
    "FROM\n",
    "  db_work_databricks.prata_cc CROSS JOIN percentis\n",
    "WHERE\n",
    "  motivo = \"Salario 25\"\n",
    "  AND categoria = \"Salario\"\n",
    "  AND motivo <> \"Salario Estagio\"\n",
    "  AND data >= \"2025-01-01\"\n",
    "GROUP BY\n",
    "  3,\n",
    "  4,\n",
    "  5,\n",
    "  6,\n",
    "  7;"
   ]
  },
  {
   "cell_type": "code",
   "execution_count": 0,
   "metadata": {
    "application/vnd.databricks.v1+cell": {
     "cellMetadata": {
      "byteLimit": 2048000,
      "implicitDf": true,
      "rowLimit": 10000
     },
     "inputWidgets": {},
     "nuid": "a8d137db-55e0-4172-a1cd-703b7a8261cb",
     "showTitle": false,
     "tableResultSettingsMap": {
      "0": {
       "dataGridStateBlob": "{\"version\":1,\"tableState\":{\"columnPinning\":{\"left\":[\"#row_number#\"],\"right\":[]},\"columnSizing\":{},\"columnVisibility\":{}},\"settings\":{\"columns\":{}},\"syncTimestamp\":1758415406768}",
       "filterBlob": null,
       "queryPlanFiltersBlob": null,
       "tableResultIndex": 0
      }
     },
     "title": ""
    }
   },
   "outputs": [
    {
     "output_type": "display_data",
     "data": {
      "text/plain": [
       "Databricks visualization. Run in Databricks to view."
      ]
     },
     "metadata": {
      "application/vnd.databricks.v1.subcommand+json": {
       "baseErrorDetails": null,
       "bindings": {},
       "collapsed": false,
       "command": "%sql WITH q AS (SELECT * FROM db_work_databricks.prata_cc WHERE categoria = \"Salario\" AND motivo <> \"Salario Estagio\" AND data >= \"2025-01-01\" ORDER BY data ASC) SELECT `data`,SUM(`valor_original`) `column_8e8dac96170` FROM q GROUP BY `data`",
       "commandTitle": "Visualization 1",
       "commandType": "auto",
       "commandVersion": 0,
       "commentThread": [],
       "commentsVisible": false,
       "contentSha256Hex": null,
       "customPlotOptions": {
        "redashChart": [
         {
          "key": "type",
          "value": "CHART"
         },
         {
          "key": "options",
          "value": {
           "alignYAxesAtZero": true,
           "coefficient": 1,
           "columnConfigurationMap": {
            "x": {
             "column": "data",
             "id": "column_8e8dac96173"
            },
            "y": [
             {
              "column": "valor_original",
              "id": "column_8e8dac96170",
              "transform": "SUM"
             }
            ]
           },
           "dateTimeFormat": "DD/MM/YYYY HH:mm",
           "direction": {
            "type": "counterclockwise"
           },
           "error_y": {
            "type": "data",
            "visible": true
           },
           "globalSeriesType": "line",
           "isAggregationOn": true,
           "legend": {
            "traceorder": "normal"
           },
           "missingValuesAsZero": true,
           "numberFormat": "0,0.[00000]",
           "percentFormat": "0[.]00%",
           "series": {
            "error_y": {
             "type": "data",
             "visible": true
            },
            "stacking": null
           },
           "seriesOptions": {
            "column_8e8dac96170": {
             "type": "line",
             "yAxis": 0
            }
           },
           "showDataLabels": false,
           "sizemode": "diameter",
           "sortX": true,
           "sortY": true,
           "swappedAxes": false,
           "textFormat": "",
           "useAggregationsUi": true,
           "valuesOptions": {},
           "version": 2,
           "xAxis": {
            "labels": {
             "enabled": true
            },
            "type": "-"
           },
           "yAxis": [
            {
             "type": "-"
            },
            {
             "opposite": true,
             "type": "-"
            }
           ]
          }
         }
        ]
       },
       "datasetPreviewNameToCmdIdMap": {},
       "diffDeletes": [],
       "diffInserts": [],
       "displayType": "redashChart",
       "error": null,
       "errorDetails": null,
       "errorSummary": null,
       "errorTraceType": null,
       "finishTime": 0,
       "globalVars": {},
       "guid": "",
       "height": "auto",
       "hideCommandCode": false,
       "hideCommandResult": false,
       "iPythonMetadata": null,
       "inputWidgets": {},
       "isLockedInExamMode": false,
       "latestAssumeRoleInfo": null,
       "latestUser": "a user",
       "latestUserId": null,
       "listResultMetadata": null,
       "metadata": {},
       "nuid": "2b35818e-5fe2-497e-a57d-fa94d7ee138f",
       "origId": 0,
       "parentHierarchy": [],
       "pivotAggregation": null,
       "pivotColumns": null,
       "position": 2.5,
       "resultDbfsErrorMessage": null,
       "resultDbfsStatus": "INLINED_IN_TREE",
       "results": null,
       "showCommandTitle": false,
       "startTime": 0,
       "state": "input",
       "streamStates": {},
       "subcommandOptions": {
        "queryPlan": {
         "groups": [
          {
           "column": "data",
           "type": "column"
          }
         ],
         "selects": [
          {
           "column": "data",
           "type": "column"
          },
          {
           "alias": "column_8e8dac96170",
           "args": [
            {
             "column": "valor_original",
             "type": "column"
            }
           ],
           "function": "SUM",
           "type": "function"
          }
         ]
        }
       },
       "submitTime": 0,
       "subtype": "tableResultSubCmd.visualization",
       "tableResultIndex": 0,
       "tableResultSettingsMap": {},
       "useConsistentColors": false,
       "version": "CommandV1",
       "width": "auto",
       "workflows": null,
       "xColumns": null,
       "yColumns": null
      }
     },
     "output_type": "display_data"
    }
   ],
   "source": [
    "%sql\n",
    "SELECT * FROM db_work_databricks.prata_cc WHERE motivo = \"Salario 25\" AND categoria = \"Salario\" AND motivo <> \"Salario Estagio\" AND data >= \"2025-01-01\" ORDER BY data ASC"
   ]
  }
 ],
 "metadata": {
  "application/vnd.databricks.v1+notebook": {
   "computePreferences": null,
   "dashboards": [],
   "environmentMetadata": {
    "base_environment": "",
    "environment_version": "3"
   },
   "inputWidgetPreferences": null,
   "language": "python",
   "notebookMetadata": {
    "mostRecentlyExecutedCommandWithImplicitDF": {
     "commandId": 7624789200597101,
     "dataframes": [
      "_sqldf"
     ]
    },
    "pythonIndentUnit": 4
   },
   "notebookName": "analise",
   "widgets": {}
  },
  "language_info": {
   "name": "python"
  }
 },
 "nbformat": 4,
 "nbformat_minor": 0
}
