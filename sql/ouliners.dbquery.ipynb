{
 "cells": [
  {
   "cell_type": "code",
   "execution_count": 0,
   "metadata": {
    "application/vnd.databricks.v1+cell": {
     "cellMetadata": {
      "byteLimit": 10485760,
      "rowLimit": 1000
     },
     "inputWidgets": {},
     "nuid": "ad0726b9-796e-42f1-9814-00b9e4f7eda1",
     "showTitle": false,
     "tableResultSettingsMap": {},
     "title": ""
    }
   },
   "outputs": [],
   "source": [
    "WITH percentis AS (\n",
    "    SELECT\n",
    "        approx_percentile(valor, 0.01) AS p01,\n",
    "        approx_percentile(valor, 0.25) AS p25,\n",
    "        approx_percentile(valor, 0.50) AS p50,\n",
    "        approx_percentile(valor, 0.75) AS p75,\n",
    "        approx_percentile(valor, 0.99) AS p99\n",
    "    FROM prata_cc WHERE tipo_movimentacao = \"Entrada\"\n",
    ")\n",
    "SELECT\n",
    "    CAST(MIN(valor) AS DOUBLE)         AS min_val,\n",
    "    SUM(CASE WHEN valor < p01 THEN 1 ELSE 0 END) AS count_outliers_low,\n",
    "    p01                                  AS q_min,\n",
    "    p25                                  AS q1,\n",
    "    p50                                  AS median,\n",
    "    p75                                  AS q3,\n",
    "    p99                                  AS q_max,\n",
    "    SUM(CASE WHEN valor > p99 THEN 1 ELSE 0 END) AS count_outliers_high,\n",
    "    CAST(MAX(valor) AS DOUBLE)         AS max_val,\n",
    "    COUNT(*)                             AS n_observacoes\n",
    "FROM prata_cc \n",
    "CROSS JOIN percentis\n",
    "WHERE tipo_movimentacao = \"Entrada\"\n",
    "GROUP BY 3,4,5,6,7;"
   ]
  }
 ],
 "metadata": {
  "application/vnd.databricks.v1+notebook": {
   "computePreferences": null,
   "dashboards": [],
   "environmentMetadata": null,
   "inputWidgetPreferences": null,
   "language": "sql",
   "notebookMetadata": {
    "pythonIndentUnit": 4,
    "sqlQueryOptions": {
     "applyAutoLimit": true,
     "catalog": "workspace",
     "schema": "db_conta_corrente"
    }
   },
   "notebookName": "ouliners.dbquery.ipynb",
   "widgets": {}
  },
  "language_info": {
   "name": "sql"
  }
 },
 "nbformat": 4,
 "nbformat_minor": 0
}
