{
 "cells": [
  {
   "cell_type": "code",
   "execution_count": 0,
   "metadata": {
    "application/vnd.databricks.v1+cell": {
     "cellMetadata": {
      "byteLimit": 10485760,
      "rowLimit": 1000
     },
     "inputWidgets": {},
     "nuid": "f42d36d4-eb10-497c-8763-78d3ddb71a2f",
     "showTitle": false,
     "tableResultSettingsMap": {
      "0": {
       "dataGridStateBlob": "{\"version\":1,\"tableState\":{\"columnPinning\":{\"left\":[\"#row_number#\"],\"right\":[]},\"columnSizing\":{\"motivo\":198},\"columnVisibility\":{}},\"settings\":{\"columns\":{}},\"syncTimestamp\":1758413610306}",
       "filterBlob": null,
       "queryPlanFiltersBlob": null,
       "tableResultIndex": 0
      }
     },
     "title": ""
    }
   },
   "outputs": [],
   "source": [
    "WITH percentis AS (\n",
    "    SELECT\n",
    "        approx_percentile(valor_original, 0.99) AS p99\n",
    "    FROM prata_cc WHERE tipo_movimentacao = \"Entrada\"\n",
    ")\n",
    "SELECT a.*\n",
    "FROM prata_cc a\n",
    "CROSS JOIN percentis p\n",
    "WHERE a.valor_original > p.p99 AND tipo_movimentacao = \"Entrada\";"
   ]
  }
 ],
 "metadata": {
  "application/vnd.databricks.v1+notebook": {
   "computePreferences": null,
   "dashboards": [],
   "environmentMetadata": null,
   "inputWidgetPreferences": null,
   "language": "sql",
   "notebookMetadata": {
    "pythonIndentUnit": 4,
    "sqlQueryOptions": {
     "applyAutoLimit": true,
     "catalog": "workspace",
     "schema": "db_work_databricks"
    }
   },
   "notebookName": "p99.dbquery.ipynb",
   "widgets": {}
  },
  "language_info": {
   "name": "sql"
  }
 },
 "nbformat": 4,
 "nbformat_minor": 0
}
